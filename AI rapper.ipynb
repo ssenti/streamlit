{
 "cells": [
  {
   "cell_type": "code",
   "execution_count": 76,
   "id": "244c4c63",
   "metadata": {},
   "outputs": [],
   "source": [
    "import librosa\n",
    "import gtts  \n",
    "from playsound import playsound \n",
    "import random\n",
    "import vlc\n",
    "import time\n",
    "import glob\n",
    "\n",
    "#word list generator\n",
    "lyrics = \"To all the ladies in the place with style and grace\"\n",
    "\n",
    "word_list = lyrics.split()\n",
    "\n",
    "for i in range(len(word_list)):\n",
    "    word_list[i] = word_list[i].lower()\n",
    "\n",
    "for i in word_list:\n",
    "    gtts.gTTS(i).save(\"sounds/{}.mp3\".format(i))\n",
    "def play_sound():\n",
    "    r = random.choice(word_list)\n",
    "    playsound(\"sounds/{}.mp3\".format(r))\n",
    "\n",
    "def dont_play_sound():\n",
    "    pass\n",
    "\n",
    "def extract_beat(filename):\n",
    "    audio_data = 'songs/{}'.format(filename)\n",
    "    x , sr = librosa.load(audio_data)\n",
    "    \n",
    "    x, sr = librosa.load(audio_data)\n",
    "    tempo, beat_frames = librosa.beat.beat_track(y=x, sr=sr)\n",
    "    beat_times = librosa.frames_to_time(beat_frames, sr=sr)\n",
    "    \n",
    "    beat_intervals = []\n",
    "    for i in range(len(beat_times)-1):\n",
    "        beat_intervals.append(beat_times[i+1]-beat_times[i])\n",
    "    beat_intervals.insert(0, beat_times[0])\n",
    "    \n",
    "    return beat_intervals\n",
    "    "
   ]
  },
  {
   "cell_type": "code",
   "execution_count": 81,
   "id": "780aa6c9",
   "metadata": {},
   "outputs": [
    {
     "name": "stdout",
     "output_type": "stream",
     "text": [
      "Quit? (y/n)n\n",
      "Quit? (y/n)n\n",
      "Quit? (y/n)y\n"
     ]
    }
   ],
   "source": [
    "ratio = 50\n",
    "\n",
    "song_names = []\n",
    "for filename in glob.glob('songs/*.wav'):\n",
    "    song_names.append(filename.split('/', 1)[1])\n",
    "\n",
    "filename = random.choice(song_names)\n",
    "beat_intervals = extract_beat(filename)\n",
    "\n",
    "p = vlc.MediaPlayer('songs/{}'.format(filename))\n",
    "p.play()\n",
    "count = 0\n",
    "\n",
    "for i in beat_intervals:\n",
    "    time.sleep(i)\n",
    "    if count == 0:\n",
    "        play_sound()\n",
    "        count = 1\n",
    "    if count > 10:\n",
    "        ans = input(\"Quit? (y/n)\")\n",
    "        if ans == \"y\":\n",
    "            p.stop()\n",
    "            break\n",
    "        if ans == 'n':\n",
    "            count = 1\n",
    "    else:\n",
    "        options = ['dont_play_sound()', 'play_sound()']\n",
    "        eval(random.choices(options, weights = (ratio, 100-ratio))[0])\n",
    "    count += 1\n",
    "    "
   ]
  },
  {
   "cell_type": "code",
   "execution_count": 80,
   "id": "00ba4d4e",
   "metadata": {},
   "outputs": [],
   "source": [
    "p.stop()"
   ]
  },
  {
   "cell_type": "code",
   "execution_count": 71,
   "id": "936fda6c",
   "metadata": {},
   "outputs": [
    {
     "data": {
      "text/plain": [
       "str"
      ]
     },
     "execution_count": 71,
     "metadata": {},
     "output_type": "execute_result"
    }
   ],
   "source": [
    "type(\"hello\")\n"
   ]
  },
  {
   "cell_type": "code",
   "execution_count": null,
   "id": "fcdeb298",
   "metadata": {},
   "outputs": [],
   "source": []
  },
  {
   "cell_type": "code",
   "execution_count": null,
   "id": "13ea53db",
   "metadata": {},
   "outputs": [],
   "source": []
  },
  {
   "cell_type": "code",
   "execution_count": null,
   "id": "fbf72b6f",
   "metadata": {},
   "outputs": [],
   "source": []
  },
  {
   "cell_type": "code",
   "execution_count": null,
   "id": "db6573e8",
   "metadata": {},
   "outputs": [],
   "source": []
  },
  {
   "cell_type": "code",
   "execution_count": null,
   "id": "df6c08a5",
   "metadata": {},
   "outputs": [],
   "source": [
    "from scipy.io.wavfile import write\n",
    "\n",
    "fs = 44100  # Sample rate\n",
    "seconds = 3  # Duration of recording\n",
    "\n",
    "myrecording = sd.rec(int(seconds * fs), samplerate=fs, channels=2)\n",
    "sd.wait()  # Wait until recording is finished\n",
    "write('output.wav', fs, myrecording)  # Save as WAV file "
   ]
  },
  {
   "cell_type": "code",
   "execution_count": null,
   "id": "0fa91c48",
   "metadata": {},
   "outputs": [],
   "source": []
  },
  {
   "cell_type": "code",
   "execution_count": null,
   "id": "ff4efccb",
   "metadata": {},
   "outputs": [],
   "source": [
    "#beat_times\n",
    "    #beat_intervals\n",
    "    #print(type(x), type(sr))\n",
    "    #print('Estimated tempo: {:.2f} beats per minute'.format(tempo))"
   ]
  },
  {
   "cell_type": "code",
   "execution_count": null,
   "id": "94159e5f",
   "metadata": {},
   "outputs": [],
   "source": [
    "librosa.load(audio_data, sr=44100)"
   ]
  },
  {
   "cell_type": "code",
   "execution_count": null,
   "id": "ded9b07e",
   "metadata": {},
   "outputs": [],
   "source": [
    "import IPython.display as ipd\n",
    "ipd.Audio(audio_data)"
   ]
  },
  {
   "cell_type": "code",
   "execution_count": null,
   "id": "4055950b",
   "metadata": {},
   "outputs": [],
   "source": [
    "\n",
    "voice_id = \"com.apple.speech.synthesis.voice.amelie\"\n",
    "  \n",
    "# Use female voice\n",
    "converter.setProperty('voice', voice_id)\n",
    "converter.setProperty('rate', 500)\n",
    "converter.say(\"yahhhh\")\n",
    "  \n",
    "converter.runAndWait()"
   ]
  },
  {
   "cell_type": "code",
   "execution_count": null,
   "id": "1e710ab0",
   "metadata": {},
   "outputs": [],
   "source": [
    "import vlc\n",
    "p = vlc.MediaPlayer(\"bigfoot_boombap_inst.mp3\")\n",
    "p.play()\n",
    "#p.stop()"
   ]
  },
  {
   "cell_type": "code",
   "execution_count": null,
   "id": "b5904611",
   "metadata": {},
   "outputs": [],
   "source": []
  },
  {
   "cell_type": "code",
   "execution_count": null,
   "id": "a632fb1f",
   "metadata": {},
   "outputs": [],
   "source": [
    "import os\n",
    "text = \"Hi!\"\n",
    "os.system(\"espeak \" + text)"
   ]
  },
  {
   "cell_type": "code",
   "execution_count": null,
   "id": "52392c2b",
   "metadata": {},
   "outputs": [],
   "source": []
  },
  {
   "cell_type": "code",
   "execution_count": null,
   "id": "ff3356d8",
   "metadata": {},
   "outputs": [],
   "source": [
    "import time\n",
    "import vlc\n",
    "\n",
    "import concurrent.futures\n",
    "import sys\n",
    "import pyttsx3\n",
    "from time import sleep\n",
    "\n",
    "def typing(text):\n",
    "    pass\n",
    "        #for char in text:\n",
    "            #sleep(0.04)\n",
    "            #sys.stdout.write(char)\n",
    "            #sys.stdout.flush()\n",
    "\n",
    "def textToSpeech(text):\n",
    "    engine = pyttsx3.init()\n",
    "    voices = engine.getProperty('voices')\n",
    "    engine.setProperty('voice', 'com.apple.speech.synthesis.voice.amelie')\n",
    "    engine.setProperty('rate', 400)\n",
    "    engine.say(text)\n",
    "    if engine._inLoop:\n",
    "        engine.endLoop()\n",
    "    engine.runAndWait()\n",
    "    del engine\n",
    "\n",
    "def parallel(text):\n",
    "    with concurrent.futures.ThreadPoolExecutor(max_workers=2) as executor:\n",
    "        future_tasks = {executor.submit(textToSpeech, text), executor.submit(typing, text)}\n",
    "        for future in concurrent.futures.as_completed(future_tasks):\n",
    "            try:\n",
    "                data = future.result()\n",
    "            except Exception as e:\n",
    "                print(e)\n",
    "\n",
    "\n",
    "    "
   ]
  },
  {
   "cell_type": "code",
   "execution_count": null,
   "id": "5f674f48",
   "metadata": {},
   "outputs": [],
   "source": []
  },
  {
   "cell_type": "code",
   "execution_count": null,
   "id": "99efb085",
   "metadata": {},
   "outputs": [],
   "source": []
  },
  {
   "cell_type": "code",
   "execution_count": null,
   "id": "f4919f77",
   "metadata": {},
   "outputs": [],
   "source": []
  },
  {
   "cell_type": "code",
   "execution_count": null,
   "id": "43d9e039",
   "metadata": {},
   "outputs": [],
   "source": []
  },
  {
   "cell_type": "code",
   "execution_count": null,
   "id": "36e179b2",
   "metadata": {},
   "outputs": [],
   "source": [
    "    # load the audio as a waveform `y`, store the sampling rate as `sr`\n",
    "    # run the default beat tracker\n",
    "    # convert the frame indices of beat events into timestamps"
   ]
  },
  {
   "cell_type": "code",
   "execution_count": null,
   "id": "ecbc3656",
   "metadata": {},
   "outputs": [],
   "source": [
    "# import threading\n",
    "\n",
    "# def background():\n",
    "#     count = 0\n",
    "#     while count < 300:\n",
    "#         time.sleep(0.01)\n",
    "#         count += .01\n",
    "#         print(count)\n",
    "\n",
    "# def foreground():\n",
    "#     p = vlc.MediaPlayer(\"bigfoot_boombap_inst.mp3\")\n",
    "#     p.play()\n",
    "#     while count < 300: \n",
    "#         if count in beat_intervals:\n",
    "#             parallel(\"yeahh\")\n",
    "#             print(\"yeah\")\n",
    "\n",
    "# b = threading.Thread(name='background', target=background)\n",
    "# f = threading.Thread(name='foreground', target=foreground)\n",
    "\n",
    "# b.start()\n",
    "# f.start()"
   ]
  },
  {
   "cell_type": "code",
   "execution_count": null,
   "id": "7b9707c7",
   "metadata": {},
   "outputs": [],
   "source": [
    "b.join()"
   ]
  },
  {
   "cell_type": "code",
   "execution_count": null,
   "id": "c4154f25",
   "metadata": {},
   "outputs": [],
   "source": [
    "# import time\n",
    "# import vlc\n",
    "# p = vlc.MediaPlayer(\"bigfoot_boombap_inst.mp3\")\n",
    "# p.play()\n",
    "\n",
    "# for i in beat_intervals:\n",
    "#     time.sleep(i)\n",
    "#     converter.say(\"yahhhh\")\n",
    "    \n",
    "#     if engine._inLoop:\n",
    "#         engine.endLoop()\n",
    "    \n",
    "#     converter.runAndWait()\n",
    "    "
   ]
  },
  {
   "cell_type": "code",
   "execution_count": null,
   "id": "93256dca",
   "metadata": {},
   "outputs": [],
   "source": []
  },
  {
   "cell_type": "code",
   "execution_count": null,
   "id": "f22bf5c0",
   "metadata": {},
   "outputs": [],
   "source": []
  },
  {
   "cell_type": "code",
   "execution_count": null,
   "id": "8a71ebef",
   "metadata": {},
   "outputs": [],
   "source": []
  },
  {
   "cell_type": "code",
   "execution_count": null,
   "id": "8cbd93a8",
   "metadata": {},
   "outputs": [],
   "source": [
    "%matplotlib inline\n",
    "import matplotlib.pyplot as plt\n",
    "import librosa.display\n",
    "import librosa.display\n",
    "plt.figure(figsize=(14, 5))\n",
    "librosa.display.waveshow(x, sr=sr)"
   ]
  },
  {
   "cell_type": "code",
   "execution_count": null,
   "id": "5adcc68e",
   "metadata": {},
   "outputs": [],
   "source": [
    "n0 = 24\n",
    "n1 = 54\n",
    "plt.figure(figsize=(14, 5))\n",
    "plt.plot(x[n0*100000:n1*100000])"
   ]
  },
  {
   "cell_type": "code",
   "execution_count": null,
   "id": "e92cc57c",
   "metadata": {},
   "outputs": [],
   "source": [
    "max(x)"
   ]
  },
  {
   "cell_type": "code",
   "execution_count": null,
   "id": "6eb4bb90",
   "metadata": {},
   "outputs": [],
   "source": []
  },
  {
   "cell_type": "code",
   "execution_count": null,
   "id": "6f917a5b",
   "metadata": {},
   "outputs": [],
   "source": [
    "X = librosa.stft(x)\n",
    "Xdb = librosa.amplitude_to_db(abs(X))\n",
    "plt.figure(figsize=(14, 5))\n",
    "librosa.display.specshow(Xdb, sr=sr, x_axis='time', y_axis='hz')\n",
    "plt.colorbar()"
   ]
  },
  {
   "cell_type": "code",
   "execution_count": null,
   "id": "2f6e2726",
   "metadata": {},
   "outputs": [],
   "source": [
    "librosa.display.specshow(Xdb, sr=sr, x_axis='time', y_axis='log')\n",
    "plt.colorbar()"
   ]
  },
  {
   "cell_type": "code",
   "execution_count": null,
   "id": "d4a5aed8",
   "metadata": {},
   "outputs": [],
   "source": [
    "import numpy as np\n",
    "sr = 22050 # sample rate\n",
    "T = 5.0    # seconds\n",
    "t = np.linspace(0, T, int(T*sr), endpoint=False) # time variable\n",
    "x = 0.5*np.sin(2*np.pi*220*t)# pure sine wave at 220 Hz\n",
    "#Playing the audio\n",
    "ipd.Audio(x, rate=sr) # load a NumPy array\n",
    "#Saving the audio\n",
    "#librosa.output.write_wav('tone_220.wav', x, sr)\n",
    "\n",
    "import soundfile as sf\n",
    "sf.write('tone_220.wav', x, sr, 'PCM_24')\n"
   ]
  },
  {
   "cell_type": "code",
   "execution_count": null,
   "id": "8bc5379e",
   "metadata": {},
   "outputs": [],
   "source": [
    "import sklearn\n",
    "spectral_centroids = librosa.feature.spectral_centroid(x, sr=sr)[0]\n",
    "spectral_centroids.shape\n",
    "\n",
    "# Computing the time variable for visualization\n",
    "plt.figure(figsize=(12, 4))\n",
    "frames = range(len(spectral_centroids))\n",
    "t = librosa.frames_to_time(frames)\n",
    "\n",
    "# Normalising the spectral centroid for visualisation\n",
    "def normalize(x, axis=0):\n",
    "    return sklearn.preprocessing.minmax_scale(x, axis=axis)\n",
    "\n",
    "#Plotting the Spectral Centroid along the waveform\n",
    "librosa.display.waveshow(x, sr=sr, alpha=0.4)\n",
    "plt.plot(t, normalize(spectral_centroids), color='b')"
   ]
  },
  {
   "cell_type": "code",
   "execution_count": null,
   "id": "c62ebc39",
   "metadata": {},
   "outputs": [],
   "source": []
  },
  {
   "cell_type": "code",
   "execution_count": null,
   "id": "e8cb7019",
   "metadata": {},
   "outputs": [],
   "source": []
  },
  {
   "cell_type": "code",
   "execution_count": null,
   "id": "14fb80ec",
   "metadata": {},
   "outputs": [],
   "source": []
  },
  {
   "cell_type": "code",
   "execution_count": null,
   "id": "9bb259de",
   "metadata": {},
   "outputs": [],
   "source": []
  },
  {
   "cell_type": "code",
   "execution_count": null,
   "id": "86fe0ce1",
   "metadata": {},
   "outputs": [],
   "source": []
  },
  {
   "cell_type": "code",
   "execution_count": null,
   "id": "8457db9f",
   "metadata": {},
   "outputs": [],
   "source": []
  },
  {
   "cell_type": "code",
   "execution_count": null,
   "id": "c889a823",
   "metadata": {},
   "outputs": [],
   "source": [
    "# Import the required module for text \n",
    "# to speech conversion\n",
    "from gtts import gTTS\n",
    "  \n",
    "# This module is imported so that we can \n",
    "# play the converted audio\n",
    "import os\n",
    "  \n",
    "# The text that you want to convert to audio\n",
    "mytext = 'Welcome to geeksforgeeks!'\n",
    "  \n",
    "# Language in which you want to convert\n",
    "language = 'en'\n",
    "  \n",
    "# Passing the text and language to the engine, \n",
    "# here we have marked slow=False. Which tells \n",
    "# the module that the converted audio should \n",
    "# have a high speed\n",
    "myobj = gTTS(text=mytext, lang=language, slow=False)\n",
    "  \n",
    "# Saving the converted audio in a mp3 file named\n",
    "# welcome \n",
    "myobj.save(\"welcome.wav\")\n",
    "  \n",
    "# Playing the converted file\n",
    "os.system(\"mpg321 welcome.wav\")"
   ]
  },
  {
   "cell_type": "code",
   "execution_count": null,
   "id": "a8d374bc",
   "metadata": {},
   "outputs": [],
   "source": [
    "import sys"
   ]
  },
  {
   "cell_type": "code",
   "execution_count": null,
   "id": "fe47a11c",
   "metadata": {},
   "outputs": [],
   "source": [
    "# Import the required module for text  \n",
    "# to speech conversion\n",
    "import pyttsx3\n",
    "  \n",
    "# init function to get an engine instance for the speech synthesis \n",
    "engine = pyttsx3.init()\n",
    "  \n",
    "# say method on the engine that passing input text to be spoken\n",
    "engine.say('Hello sir, how may I help you, sir.')\n",
    "  \n",
    "# run and wait method, it processes the voice commands. \n",
    "engine.runAndWait()"
   ]
  },
  {
   "cell_type": "code",
   "execution_count": null,
   "id": "646d2120",
   "metadata": {},
   "outputs": [],
   "source": [
    "# Python program to show\n",
    "# how to convert text to speech\n",
    "import pyttsx3\n",
    "  \n",
    "# Initialize the converter\n",
    "converter = pyttsx3.init()\n",
    "  \n",
    "# Set properties before adding\n",
    "# Things to say\n",
    "  \n",
    "# Sets speed percent \n",
    "# Can be more than 100\n",
    "converter.setProperty('rate', 300)\n",
    "# Set volume 0-1\n",
    "converter.setProperty('volume', 1.5)\n",
    "  \n",
    "# Queue the entered text \n",
    "# There will be a pause between\n",
    "# each one like a pause in \n",
    "# a sentence\n",
    "converter.say(\"Hello GeeksforGeeks\")\n",
    "converter.say(\"I'm also a geek\")\n",
    "  \n",
    "# Empties the say() queue\n",
    "# Program will not continue\n",
    "# until all speech is done talking\n",
    "converter.runAndWait()"
   ]
  },
  {
   "cell_type": "code",
   "execution_count": null,
   "id": "ff7087a8",
   "metadata": {},
   "outputs": [],
   "source": [
    "\n",
    "voices = converter.getProperty('voices')\n",
    "  \n",
    "for voice in voices:\n",
    "    # to get the info. about various voices in our PC \n",
    "    print(\"Voice:\")\n",
    "    print(\"ID: %s\" %voice.id)\n",
    "    print(\"Name: %s\" %voice.name)\n",
    "    print(\"Age: %s\" %voice.age)\n",
    "    print(\"Gender: %s\" %voice.gender)\n",
    "    print(\"Languages Known: %s\" %voice.languages)\n",
    "    print(\"-\")"
   ]
  },
  {
   "cell_type": "code",
   "execution_count": null,
   "id": "e86a4df5",
   "metadata": {},
   "outputs": [],
   "source": [
    "\n",
    "voice_id = \"com.apple.speech.synthesis.voice.amelie\"\n",
    "  \n",
    "# Use female voice\n",
    "converter.setProperty('voice', voice_id)\n",
    "converter.setProperty('rate', 100)\n",
    "converter.say(\"bonjour je m'appelle amelie et je suis francaise\")\n",
    "  \n",
    "converter.runAndWait()"
   ]
  },
  {
   "cell_type": "code",
   "execution_count": null,
   "id": "7ebd8a5f",
   "metadata": {},
   "outputs": [],
   "source": [
    "import vlc\n",
    "p = vlc.MediaPlayer(\"bigfoot_boombap_inst.mp3\")\n",
    "p.play()\n"
   ]
  },
  {
   "cell_type": "code",
   "execution_count": null,
   "id": "66edbbb0",
   "metadata": {},
   "outputs": [],
   "source": [
    "p.stop()"
   ]
  },
  {
   "cell_type": "code",
   "execution_count": null,
   "id": "ef4b4d41",
   "metadata": {},
   "outputs": [],
   "source": [
    "# Queue the entered text \n",
    "# There will be a pause between\n",
    "# each one like a pause in \n",
    "# a sentence\n",
    "converter.say(\"Hello GeeksforGeeks\")\n",
    "converter.say(\"I'm also a geek\")\n",
    "  \n",
    "# Empties the say() queue\n",
    "# Program will not continue\n",
    "# until all speech is done talking\n",
    "converter.runAndWait()"
   ]
  },
  {
   "cell_type": "code",
   "execution_count": null,
   "id": "3c8a3539",
   "metadata": {},
   "outputs": [],
   "source": [
    "import os\n",
    "from gtts import gTTS"
   ]
  },
  {
   "cell_type": "code",
   "execution_count": null,
   "id": "442ae603",
   "metadata": {},
   "outputs": [],
   "source": [
    "text='Hi ,Greetings for the day , i hope you will enjoy this tutorial Please let me know if you have any question or concern '\n",
    "language = 'en' #english\n",
    "speech = gTTS(text = text, lang = language, slow = False)"
   ]
  },
  {
   "cell_type": "code",
   "execution_count": null,
   "id": "90af5d29",
   "metadata": {},
   "outputs": [],
   "source": [
    "speech.save('medium_1.wav') # this will save the format \n",
    "#to play string in wav\n",
    "os.system('start medium_1.wav')"
   ]
  },
  {
   "cell_type": "code",
   "execution_count": null,
   "id": "63f40e5f",
   "metadata": {},
   "outputs": [],
   "source": []
  },
  {
   "cell_type": "code",
   "execution_count": null,
   "id": "68242b66",
   "metadata": {},
   "outputs": [],
   "source": []
  },
  {
   "cell_type": "code",
   "execution_count": null,
   "id": "abc83565",
   "metadata": {},
   "outputs": [],
   "source": [
    "import wave\n",
    "import numpy as np\n",
    "\n",
    "wr = wave.open('welcome.wav', 'r')\n",
    "\n",
    "# Set the parameters for the output file.\n",
    "par = list(wr.getparams())\n",
    "par[3] = 0  # The number of samples will be set by writeframes.\n",
    "par = tuple(par)\n",
    "ww = wave.open('pitch1.wav', 'w')\n",
    "ww.setparams(par)"
   ]
  },
  {
   "cell_type": "code",
   "execution_count": null,
   "id": "6e094d89",
   "metadata": {},
   "outputs": [],
   "source": []
  }
 ],
 "metadata": {
  "kernelspec": {
   "display_name": "Python 3",
   "language": "python",
   "name": "python3"
  },
  "language_info": {
   "codemirror_mode": {
    "name": "ipython",
    "version": 3
   },
   "file_extension": ".py",
   "mimetype": "text/x-python",
   "name": "python",
   "nbconvert_exporter": "python",
   "pygments_lexer": "ipython3",
   "version": "3.8.8"
  }
 },
 "nbformat": 4,
 "nbformat_minor": 5
}
